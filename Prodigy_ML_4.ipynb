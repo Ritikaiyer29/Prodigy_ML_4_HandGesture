{
 "cells": [
  {
   "cell_type": "code",
   "execution_count": 17,
   "metadata": {},
   "outputs": [],
   "source": [
    "import keras\n",
    "import matplotlib.pyplot as plt\n",
    "import os\n",
    "import cv2 \n",
    "import numpy as np\n",
    "from keras.layers import Conv2D, Activation, MaxPool2D, Dense, Flatten, Dropout"
   ]
  },
  {
   "cell_type": "code",
   "execution_count": 18,
   "metadata": {},
   "outputs": [],
   "source": [
    "labels = ['01_palm', '02_l','03_fist','04_fist_moved','05_thumb','06_index','07_ok','08_palm_moved','09_c','10_down']\n",
    "size = 50\n",
    "datapath=\"C:\\\\Users\\\\Jaya\\\\Desktop\\\\Prodigy\\\\leapGestRecog\\\\leapGestRecog\""
   ]
  },
  {
   "cell_type": "code",
   "execution_count": 19,
   "metadata": {},
   "outputs": [
    {
     "data": {
      "text/plain": [
       "[array([[5, 4, 4, ..., 3, 4, 2],\n",
       "        [5, 4, 5, ..., 3, 3, 3],\n",
       "        [4, 5, 4, ..., 4, 5, 3],\n",
       "        ...,\n",
       "        [4, 5, 5, ..., 5, 5, 5],\n",
       "        [5, 5, 6, ..., 5, 7, 4],\n",
       "        [4, 7, 5, ..., 5, 4, 4]], dtype=uint8),\n",
       " 0]"
      ]
     },
     "execution_count": 19,
     "metadata": {},
     "output_type": "execute_result"
    }
   ],
   "source": [
    "images = []\n",
    "for dr in os.listdir(datapath):\n",
    "    for label in labels:\n",
    "        class_index =labels.index(label)\n",
    "        path = os.path.join(datapath,dr,label)\n",
    "        for img in os.listdir(path):\n",
    "            try:\n",
    "                imgarr = cv2.imread(os.path.join(path, img), cv2.IMREAD_GRAYSCALE)\n",
    "                images.append([cv2.resize(imgarr, (size,size)), class_index])\n",
    "            except Exception as e:\n",
    "                pass\n",
    "images[0]"
   ]
  },
  {
   "cell_type": "code",
   "execution_count": 20,
   "metadata": {},
   "outputs": [],
   "source": [
    "import random\n",
    "random.shuffle(images)"
   ]
  },
  {
   "cell_type": "code",
   "execution_count": 21,
   "metadata": {},
   "outputs": [
    {
     "data": {
      "text/plain": [
       "(20000, 50, 50)"
      ]
     },
     "execution_count": 21,
     "metadata": {},
     "output_type": "execute_result"
    }
   ],
   "source": [
    "input = []\n",
    "label = []\n",
    "for X, y in images:\n",
    "    input.append(X)\n",
    "    label.append(y)\n",
    "input= np.array(input)\n",
    "label = np.array(label)\n",
    "input = input/255.0\n",
    "input.shape"
   ]
  },
  {
   "cell_type": "code",
   "execution_count": 22,
   "metadata": {},
   "outputs": [],
   "source": [
    "label = keras.utils.to_categorical(label, num_classes=10,dtype='i1')\n",
    "input.shape = (-1,size,size, 1)"
   ]
  },
  {
   "cell_type": "code",
   "execution_count": 23,
   "metadata": {},
   "outputs": [],
   "source": [
    "from sklearn.model_selection import train_test_split\n",
    "X_train, X_test, y_train, y_test = train_test_split(input, label, test_size = 0.3, random_state=0)"
   ]
  },
  {
   "cell_type": "code",
   "execution_count": 24,
   "metadata": {},
   "outputs": [],
   "source": [
    "model = keras.models.Sequential()\n",
    "\n",
    "model.add(Conv2D(filters = 32, kernel_size = (3,3), input_shape = (size,size, 1)))\n",
    "model.add(Activation('relu'))\n",
    "\n",
    "\n",
    "model.add(Conv2D(filters = 32, kernel_size = (3,3)))\n",
    "model.add(Activation('relu'))\n",
    "model.add(MaxPool2D(pool_size=(2,2)))\n",
    "model.add(Dropout(0.3))\n",
    "\n",
    "model.add(Conv2D(filters = 64, kernel_size = (3,3)))\n",
    "model.add(Activation('relu'))\n",
    "model.add(MaxPool2D(pool_size=(2,2)))\n",
    "model.add(Dropout(0.3))\n",
    "\n",
    "model.add(Flatten())\n",
    "model.add(Dense(256, activation='relu'))\n",
    "model.add(Dense(10, activation='softmax'))\n",
    "\n",
    "model.compile(loss='categorical_crossentropy',\n",
    "             optimizer = 'rmsprop',\n",
    "             metrics = ['accuracy'])"
   ]
  },
  {
   "cell_type": "code",
   "execution_count": 25,
   "metadata": {},
   "outputs": [
    {
     "name": "stdout",
     "output_type": "stream",
     "text": [
      "Epoch 1/7\n",
      "438/438 [==============================] - 68s 153ms/step - loss: 0.3472 - accuracy: 0.8847 - val_loss: 0.0185 - val_accuracy: 0.9950\n",
      "Epoch 2/7\n",
      "438/438 [==============================] - 70s 160ms/step - loss: 0.0164 - accuracy: 0.9951 - val_loss: 0.0033 - val_accuracy: 0.9992\n",
      "Epoch 3/7\n",
      "438/438 [==============================] - 70s 160ms/step - loss: 0.0069 - accuracy: 0.9977 - val_loss: 0.0021 - val_accuracy: 0.9995\n",
      "Epoch 4/7\n",
      "438/438 [==============================] - 70s 159ms/step - loss: 0.0084 - accuracy: 0.9976 - val_loss: 0.0036 - val_accuracy: 0.9990\n",
      "Epoch 5/7\n",
      "438/438 [==============================] - 70s 159ms/step - loss: 0.0058 - accuracy: 0.9980 - val_loss: 0.0041 - val_accuracy: 0.9992\n",
      "Epoch 6/7\n",
      "438/438 [==============================] - 69s 157ms/step - loss: 0.0022 - accuracy: 0.9993 - val_loss: 0.0026 - val_accuracy: 0.9995\n",
      "Epoch 7/7\n",
      "438/438 [==============================] - 70s 160ms/step - loss: 0.0014 - accuracy: 0.9994 - val_loss: 0.0026 - val_accuracy: 0.9995\n"
     ]
    },
    {
     "data": {
      "text/plain": [
       "<keras.callbacks.History at 0x1f4075cc070>"
      ]
     },
     "execution_count": 25,
     "metadata": {},
     "output_type": "execute_result"
    }
   ],
   "source": [
    "model.fit(X_train, y_train, epochs = 7, batch_size=32, validation_data=(X_test, y_test))"
   ]
  },
  {
   "cell_type": "code",
   "execution_count": 26,
   "metadata": {},
   "outputs": [
    {
     "name": "stdout",
     "output_type": "stream",
     "text": [
      "188/188 [==============================] - 5s 24ms/step - loss: 0.0026 - accuracy: 0.9995\n",
      "Test accuracy: 99.95%\n"
     ]
    }
   ],
   "source": [
    "test_loss, test_accuracy = model.evaluate(X_test, y_test)\n",
    "\n",
    "print('Test accuracy: {:2.2f}%'.format(test_accuracy*100))"
   ]
  }
 ],
 "metadata": {
  "kernelspec": {
   "display_name": "base",
   "language": "python",
   "name": "python3"
  },
  "language_info": {
   "codemirror_mode": {
    "name": "ipython",
    "version": 3
   },
   "file_extension": ".py",
   "mimetype": "text/x-python",
   "name": "python",
   "nbconvert_exporter": "python",
   "pygments_lexer": "ipython3",
   "version": "3.8.3"
  }
 },
 "nbformat": 4,
 "nbformat_minor": 2
}
